{
 "cells": [
  {
   "cell_type": "code",
   "execution_count": null,
   "metadata": {},
   "outputs": [],
   "source": [
    "from pymisp import ExpandedPyMISP\n",
    "from pprint import pprint\n",
    "AUTHKEY = \"ptU1OggdiLLWlwHPO9B3lzpwEND3hL7gH0uEsyYL\"\n",
    "URL = \"http://127.0.0.1:8080\"\n",
    "\n",
    "def print_result(result):\n",
    "    flag_printed = False\n",
    "    if isinstance(result, list):\n",
    "        print(\"Count: %s\" % len(result))\n",
    "        flag_printed = True\n",
    "        for i in res:\n",
    "            if 'Event' in i and 'Attribute' in i['Event']:\n",
    "                print(\"  - Attribute count: %s\" % len(i['Event']['Attribute']))\n",
    "    elif isinstance(result, dict):\n",
    "        if 'Attribute' in result:\n",
    "            print(\"Attribute count: %s\" % len(result['Attribute']))\n",
    "            flag_printed = True\n",
    "        elif 'Event' in result and 'Attribute' in result['Event']['Attribute']:\n",
    "            print(\"Attribute count: %s\" % len(result['Event']['Attribute']))\n",
    "            flag_printed = True\n",
    "    if flag_printed:\n",
    "        print('----------')\n",
    "    pprint(result)"
   ]
  },
  {
   "cell_type": "markdown",
   "metadata": {},
   "source": [
    "# Events"
   ]
  },
  {
   "cell_type": "markdown",
   "metadata": {},
   "source": [
    "## Creation and Edition"
   ]
  },
  {
   "cell_type": "code",
   "execution_count": null,
   "metadata": {},
   "outputs": [],
   "source": [
    "# Creation\n",
    "misp_url = URL + '/events/add'\n",
    "relative_path = ''\n",
    "\n",
    "body = {\n",
    "    \"info\": \"Event created via the API\",\n",
    "    \"threat_level_id\": 1,\n",
    "    \"distribution\": 0\n",
    "}\n",
    "\n",
    "misp = ExpandedPyMISP(misp_url, AUTHKEY, False)\n",
    "res = misp.direct_call(relative_path, body)\n",
    "print_result(res)"
   ]
  },
  {
   "cell_type": "code",
   "execution_count": null,
   "metadata": {},
   "outputs": [],
   "source": [
    "# Edition 1\n",
    "misp_url = URL + '/events/edit/'\n",
    "relative_path = '29'\n",
    "\n",
    "body = {\n",
    "    \"distribution\": 4,\n",
    "    \"sharing_group_id\": 1\n",
    "}\n",
    "\n",
    "misp = ExpandedPyMISP(misp_url, AUTHKEY, False)\n",
    "res = misp.direct_call(relative_path, body)  \n",
    "print_result(res)"
   ]
  },
  {
   "cell_type": "code",
   "execution_count": null,
   "metadata": {},
   "outputs": [],
   "source": [
    "# Edition 2 - Adding Attribute\n",
    "misp_url = URL + '/events/edit/'\n",
    "relative_path = '29'\n",
    "\n",
    "body = {\n",
    "    \"distribution\": 0,\n",
    "    \"Attribute\": [\n",
    "        {\n",
    "            \"value\": \"9.9.9.9\",\n",
    "            \"type\": \"ip-src\"\n",
    "        }\n",
    "    ]\n",
    "}\n",
    "\n",
    "misp = ExpandedPyMISP(misp_url, AUTHKEY, False)\n",
    "res = misp.direct_call(relative_path, body)\n",
    "print_result(res)"
   ]
  },
  {
   "cell_type": "code",
   "execution_count": null,
   "metadata": {},
   "outputs": [],
   "source": [
    "# Edition 2 - tagging\n",
    "misp_url = URL + '/events/edit/'\n",
    "relative_path = '29'\n",
    "\n",
    "body = {\n",
    "    \"distribution\": 0,\n",
    "    \"EventTag\": {\n",
    "        \"Tag\": [\n",
    "            {\"name\":\"tlp:red\"}\n",
    "        ]\n",
    "    }\n",
    "}\n",
    "\n",
    "misp = ExpandedPyMISP(misp_url, AUTHKEY, False)\n",
    "res = misp.direct_call(relative_path, body)\n",
    "print_result(res)"
   ]
  },
  {
   "cell_type": "code",
   "execution_count": null,
   "metadata": {},
   "outputs": [],
   "source": [
    "# Searching the Event index\n",
    "misp_url = URL + '/events/index'\n",
    "relative_path = ''\n",
    "\n",
    "body = {\n",
    "    \"eventinfo\": \"api\",\n",
    "    \"publish_timestamp\": \"10d\",\n",
    "    \"org\": \"ORGNAME\"\n",
    "}\n",
    "\n",
    "misp = ExpandedPyMISP(misp_url, AUTHKEY, False)\n",
    "res = misp.direct_call(relative_path, body)\n",
    "print_result(res)"
   ]
  },
  {
   "cell_type": "code",
   "execution_count": null,
   "metadata": {},
   "outputs": [],
   "source": [
    "# Searching the Event index\n",
    "misp_url = URL + '/events/index'\n",
    "relative_path = ''\n",
    "\n",
    "body = {\n",
    "    \"hasproposal\": 1,\n",
    "    \"tag\": [\"tlp:amber\"]\n",
    "}\n",
    "\n",
    "misp = ExpandedPyMISP(misp_url, AUTHKEY, False)\n",
    "res = misp.direct_call(relative_path, body)\n",
    "\n",
    "print('Event number: %s' % len(res))\n",
    "print_result(res)"
   ]
  },
  {
   "cell_type": "markdown",
   "metadata": {},
   "source": [
    "# Attributes"
   ]
  },
  {
   "cell_type": "markdown",
   "metadata": {},
   "source": [
    "## Creation and edition"
   ]
  },
  {
   "cell_type": "code",
   "execution_count": null,
   "metadata": {},
   "outputs": [],
   "source": [
    "event_id = 29"
   ]
  },
  {
   "cell_type": "code",
   "execution_count": null,
   "metadata": {},
   "outputs": [],
   "source": [
    "# Adding\n",
    "misp_url = URL + '/attributes/add/'\n",
    "relative_path = str(event_id)\n",
    "\n",
    "body = {\n",
    "    \"value\": \"8.8.8.9\",\n",
    "    \"type\": \"ip-dst\"\n",
    "}\n",
    "\n",
    "misp = ExpandedPyMISP(misp_url, AUTHKEY, False)\n",
    "res = misp.direct_call(relative_path, body)\n",
    "print_result(res)"
   ]
  },
  {
   "cell_type": "code",
   "execution_count": null,
   "metadata": {},
   "outputs": [],
   "source": [
    "# Adding invalid attribute type\n",
    "misp_url = URL + '/attributes/add/'\n",
    "relative_path = str(event_id)\n",
    "\n",
    "body = {\n",
    "    \"value\": \"8.8.8.9\",\n",
    "    \"type\": \"md5\"\n",
    "}\n",
    "\n",
    "misp = ExpandedPyMISP(misp_url, AUTHKEY, False)\n",
    "res = misp.direct_call(relative_path, body)\n",
    "print_result(res)"
   ]
  },
  {
   "cell_type": "code",
   "execution_count": null,
   "metadata": {},
   "outputs": [],
   "source": [
    "# Editing\n",
    "misp_url = URL + '/attributes/edit/'\n",
    "relative_path = '36586'\n",
    "\n",
    "body = {\n",
    "    \"value\": \"127.0.0.1\",\n",
    "    \"to_ids\": 0,\n",
    "    \"comment\": \"Comment added via the API\",\n",
    "}\n",
    "\n",
    "misp = ExpandedPyMISP(misp_url, AUTHKEY, False)\n",
    "res = misp.direct_call(relative_path, body)\n",
    "print_result(res)"
   ]
  },
  {
   "cell_type": "markdown",
   "metadata": {},
   "source": [
    "## RestSearch\n",
    "**Aka: Most powerfull search tool in MISP**"
   ]
  },
  {
   "cell_type": "markdown",
   "metadata": {},
   "source": [
    "### RestSearch - Attributes"
   ]
  },
  {
   "cell_type": "code",
   "execution_count": null,
   "metadata": {},
   "outputs": [],
   "source": [
    "misp_url = URL + '/attributes/restSearch/'\n",
    "relative_path = ''\n",
    "\n",
    "body = {\n",
    "    \"returnFormat\": \"json\",\n",
    "    \"eventid\": event_id\n",
    "}\n",
    "\n",
    "misp = ExpandedPyMISP(misp_url, AUTHKEY, False)\n",
    "res = misp.direct_call(relative_path, body)\n",
    "print_result(res)"
   ]
  },
  {
   "cell_type": "code",
   "execution_count": null,
   "metadata": {},
   "outputs": [],
   "source": [
    "# Searches on Attribute's data\n",
    "misp_url = URL + '/attributes/restSearch/'\n",
    "relative_path = ''\n",
    "\n",
    "body = {\n",
    "    \"returnFormat\": \"json\",\n",
    "    \"eventid\": event_id,\n",
    "    \"type\": \"ip-src\",\n",
    "    \"value\": \"8.8.%\"\n",
    "}\n",
    "\n",
    "misp = ExpandedPyMISP(misp_url, AUTHKEY, False)\n",
    "res = misp.direct_call(relative_path, body)\n",
    "print_result(res)"
   ]
  },
  {
   "cell_type": "code",
   "execution_count": null,
   "metadata": {},
   "outputs": [],
   "source": [
    "# Searches on Attribute's data\n",
    "misp_url = URL + '/attributes/restSearch/'\n",
    "relative_path = ''\n",
    "\n",
    "body = {\n",
    "    \"returnFormat\": \"json\",\n",
    "    \"eventid\": event_id,\n",
    "    \"deleted\": [0, 1]    # Consider both deleted AND not deleted\n",
    "}\n",
    "\n",
    "misp = ExpandedPyMISP(misp_url, AUTHKEY, False)\n",
    "res = misp.direct_call(relative_path, body)\n",
    "print_result(res)"
   ]
  },
  {
   "cell_type": "code",
   "execution_count": null,
   "metadata": {},
   "outputs": [],
   "source": [
    "# Searches on Attribute's data\n",
    "misp_url = URL + '/attributes/restSearch/'\n",
    "relative_path = ''\n",
    "\n",
    "body = {\n",
    "    \"returnFormat\": \"json\",\n",
    "    \"eventid\": event_id,\n",
    "    \"tags\": \"tlp:white\",\n",
    "#     \"tags\": [\"tlp:white\", \"tlp:green\"]\n",
    "#     \"tags\": [\"tlp:white\", \"!tlp:green\"]\n",
    "#     \"tags\": \"tlp:%\"\n",
    "#     \"includeEventTags\": 1\n",
    "        # BRAND NEW!\n",
    "#     \"tags\": {\"AND\": [\"tlp:green\", \"Malware\"], \"NOT\": [\"%ransomware%\"]}\n",
    "}\n",
    "\n",
    "misp = ExpandedPyMISP(misp_url, AUTHKEY, False)\n",
    "res = misp.direct_call(relative_path, body)\n",
    "print_result(res)"
   ]
  },
  {
   "cell_type": "code",
   "execution_count": null,
   "metadata": {},
   "outputs": [],
   "source": [
    "# Paginating\n",
    "misp_url = URL + '/attributes/restSearch/'\n",
    "relative_path = ''\n",
    "\n",
    "body = {\n",
    "    \"returnFormat\": \"json\",\n",
    "    \"eventid\": event_id,\n",
    "    \"page\": 1,\n",
    "    \"limit\": 2\n",
    "}\n",
    "\n",
    "misp = ExpandedPyMISP(misp_url, AUTHKEY, False)\n",
    "res = misp.direct_call(relative_path, body)\n",
    "print_result(res)"
   ]
  },
  {
   "cell_type": "code",
   "execution_count": null,
   "metadata": {},
   "outputs": [],
   "source": [
    "# Searche based on time: Absolute\n",
    "misp_url = URL + '/attributes/restSearch/'\n",
    "relative_path = ''\n",
    "\n",
    "body = {\n",
    "    \"returnFormat\": \"json\",\n",
    "    \"eventid\": event_id,\n",
    "    \"from\": \"2019/05/21\" # or \"2019-05-21\"\n",
    "}\n",
    "\n",
    "misp = ExpandedPyMISP(misp_url, AUTHKEY, False)\n",
    "res = misp.direct_call(relative_path, body)\n",
    "print_result(res)"
   ]
  },
  {
   "cell_type": "code",
   "execution_count": null,
   "metadata": {},
   "outputs": [],
   "source": [
    "# Searche based on time: Relative\n",
    "misp_url = URL + '/attributes/restSearch/'\n",
    "relative_path = ''\n",
    "\n",
    "body = {\n",
    "    \"returnFormat\": \"json\",\n",
    "    \"eventid\": event_id,\n",
    "    \"to_ids\": 1,\n",
    "    \"last\": \"10d\" # /!\\ Works on the publish_timestamp. Units: days, hours, minutes and secondes,\n",
    "}\n",
    "\n",
    "misp = ExpandedPyMISP(misp_url, AUTHKEY, False)\n",
    "res = misp.direct_call(relative_path, body)\n",
    "print_result(res)"
   ]
  },
  {
   "cell_type": "code",
   "execution_count": null,
   "metadata": {},
   "outputs": [],
   "source": [
    "# Searche based on time: Relative\n",
    "misp_url = URL + '/attributes/restSearch/'\n",
    "relative_path = ''\n",
    "\n",
    "body = {\n",
    "    \"returnFormat\": \"json\",\n",
    "    \"eventid\": event_id,\n",
    "    \"type\": \"attachment\",\n",
    "#     \"withAttachments\": 1\n",
    "}\n",
    "\n",
    "misp = ExpandedPyMISP(misp_url, AUTHKEY, False)\n",
    "res = misp.direct_call(relative_path, body)\n",
    "print_result(res)"
   ]
  },
  {
   "cell_type": "code",
   "execution_count": null,
   "metadata": {},
   "outputs": [],
   "source": [
    "# Searche - Others\n",
    "misp_url = URL + '/attributes/restSearch/'\n",
    "relative_path = ''\n",
    "\n",
    "body = {\n",
    "    \"returnFormat\": \"json\",\n",
    "    \"eventid\": event_id,\n",
    "#     \"enforceWarninglist\": 1\n",
    "}\n",
    "\n",
    "misp = ExpandedPyMISP(misp_url, AUTHKEY, False)\n",
    "res = misp.direct_call(relative_path, body)\n",
    "print_result(res)"
   ]
  },
  {
   "cell_type": "markdown",
   "metadata": {},
   "source": [
    "### RestSearch - Events"
   ]
  },
  {
   "cell_type": "code",
   "execution_count": null,
   "metadata": {},
   "outputs": [],
   "source": [
    "# Searching using the RestSearch\n",
    "misp_url = URL + '/events/restSearch'\n",
    "relative_path = ''\n",
    "\n",
    "body = {\n",
    "    \"returnFormat\": \"json\",\n",
    "    \"eventid\": 29,\n",
    "}\n",
    "\n",
    "misp = ExpandedPyMISP(misp_url, AUTHKEY, False)\n",
    "res = misp.direct_call(relative_path, body)\n",
    "print_result(res)"
   ]
  },
  {
   "cell_type": "code",
   "execution_count": null,
   "metadata": {},
   "outputs": [],
   "source": [
    "# Searching using the RestSearch - Other return format\n",
    "!curl \\\n",
    " -d '{\"returnFormat\":\"yara\",\"eventid\":29}' \\\n",
    " -H \"Authorization: ptU1OggdiLLWlwHPO9B3lzpwEND3hL7gH0uEsyYL\" \\\n",
    " -H \"Accept: application/json\" \\\n",
    " -H \"Content-type: application/json\" \\\n",
    " -X POST 127.0.0.1:8080/events/restSearch 2> /dev/null"
   ]
  },
  {
   "cell_type": "code",
   "execution_count": null,
   "metadata": {},
   "outputs": [],
   "source": [
    "# Searching using the RestSearch - Other return format\n",
    "!curl \\\n",
    " -d '{\"returnFormat\":\"csv\",\"eventid\":29}' \\\n",
    " -H \"Authorization: ptU1OggdiLLWlwHPO9B3lzpwEND3hL7gH0uEsyYL\" \\\n",
    " -H \"Accept: application/json\" \\\n",
    " -H \"Content-type: application/json\" \\\n",
    " -X POST 127.0.0.1:8080/events/restSearch 2> /dev/null"
   ]
  },
  {
   "cell_type": "code",
   "execution_count": null,
   "metadata": {},
   "outputs": [],
   "source": [
    "# Searching using the RestSearch - Filtering\n",
    "misp_url = URL + '/events/restSearch'\n",
    "relative_path = ''\n",
    "\n",
    "body = {\n",
    "    \"returnFormat\": \"json\",\n",
    "    \"value\": \"fast-decay-model.json\"\n",
    "}\n",
    "\n",
    "misp = ExpandedPyMISP(misp_url, AUTHKEY, False)\n",
    "res = misp.direct_call(relative_path, body)\n",
    "print_result(res)"
   ]
  },
  {
   "cell_type": "code",
   "execution_count": null,
   "metadata": {},
   "outputs": [],
   "source": [
    "# Searching using the RestSearch\n",
    "misp_url = URL + '/events/restSearch'\n",
    "relative_path = ''\n",
    "\n",
    "body = {\n",
    "    \"returnFormat\": \"json\",\n",
    "    \"org\": \"CIRCL\",\n",
    "    \"metadata\": 1\n",
    "}\n",
    "\n",
    "misp = ExpandedPyMISP(misp_url, AUTHKEY, False)\n",
    "res = misp.direct_call(relative_path, body)\n",
    "print_result(res)"
   ]
  },
  {
   "cell_type": "code",
   "execution_count": null,
   "metadata": {},
   "outputs": [],
   "source": [
    "# Searching using the RestSearch\n",
    "misp_url = URL + '/events/restSearch'\n",
    "relative_path = ''\n",
    "\n",
    "body = {\n",
    "    \"returnFormat\": \"json\",\n",
    "    \"eventinfo\": \"%via the API%\",\n",
    "    \"published\": 1\n",
    "}\n",
    "\n",
    "misp = ExpandedPyMISP(misp_url, AUTHKEY, False)\n",
    "res = misp.direct_call(relative_path, body)\n",
    "print_result(res)"
   ]
  },
  {
   "cell_type": "markdown",
   "metadata": {},
   "source": [
    "# Sightings"
   ]
  },
  {
   "cell_type": "code",
   "execution_count": null,
   "metadata": {},
   "outputs": [],
   "source": [
    "# Creating sightings\n",
    "misp_url = URL + '/sightings/add'\n",
    "relative_path = ''\n",
    "\n",
    "body = {\n",
    "    \"id\": \"36589\"\n",
    "#     \"value\": \"fast-decay-model.json\"\n",
    "}\n",
    "\n",
    "misp = ExpandedPyMISP(misp_url, AUTHKEY, False)\n",
    "res = misp.direct_call(relative_path, body)\n",
    "print_result(res)"
   ]
  },
  {
   "cell_type": "code",
   "execution_count": null,
   "metadata": {},
   "outputs": [],
   "source": [
    "# Searching for sighted elements\n",
    "misp_url = URL + '/sightings/restSearch/event'\n",
    "relative_path = ''\n",
    "\n",
    "body = {\n",
    "    \"returnFormat\": \"json\",\n",
    "    \"id\": 29,\n",
    "#     \"includeAttribute\": 1,\n",
    "#     \"includeEvent\": 1\n",
    "}\n",
    "\n",
    "misp = ExpandedPyMISP(misp_url, AUTHKEY, False)\n",
    "res = misp.direct_call(relative_path, body)\n",
    "print_result(res)"
   ]
  },
  {
   "cell_type": "markdown",
   "metadata": {},
   "source": [
    "# Warning lists"
   ]
  },
  {
   "cell_type": "code",
   "execution_count": 163,
   "metadata": {},
   "outputs": [
    {
     "name": "stderr",
     "output_type": "stream",
     "text": [
      "ERROR [aping.py:72 - _check_response() ] Something went wrong (404): {'code': 404, 'name': 'Action WarninglistsController::servers() could not be found.', 'message': 'Action WarninglistsController::servers() could not be found.', 'url': '/warninglists/servers/getPyMISPVersion.json'}\n",
      "WARNING [api.py:103 - __init__() ] 404\n",
      "ERROR [aping.py:72 - _check_response() ] Something went wrong (404): {'code': 404, 'name': 'Action WarninglistsController::attributes() could not be found.', 'message': 'Action WarninglistsController::attributes() could not be found.', 'url': '/warninglists/attributes/describeTypes.json'}\n"
     ]
    },
    {
     "name": "stdout",
     "output_type": "stream",
     "text": [
      "{'8.8.8.8': [{'id': '20', 'name': 'List of known IPv4 public DNS resolvers'}]}\n"
     ]
    }
   ],
   "source": [
    "# Checking values against the warining list\n",
    "misp_url = URL + '/warninglists/checkValue'\n",
    "relative_path = ''\n",
    "\n",
    "body = [\"8.8.8.8\", \"yolo\"]\n",
    "\n",
    "misp = ExpandedPyMISP(misp_url, AUTHKEY, False)\n",
    "res = misp.direct_call(relative_path, body)\n",
    "print_result(res)"
   ]
  },
  {
   "cell_type": "markdown",
   "metadata": {},
   "source": [
    "# Instance management"
   ]
  },
  {
   "cell_type": "code",
   "execution_count": null,
   "metadata": {},
   "outputs": [],
   "source": [
    "# Creating Organisation\n",
    "misp_url = URL + '/admin/organisations/add'\n",
    "relative_path = ''\n",
    "\n",
    "body = {\n",
    "    \"name\": \"TEMP_ORG\"\n",
    "}\n",
    "\n",
    "misp = ExpandedPyMISP(misp_url, AUTHKEY, False)\n",
    "res = misp.direct_call(relative_path, body)\n",
    "print_result(res)"
   ]
  },
  {
   "cell_type": "code",
   "execution_count": null,
   "metadata": {},
   "outputs": [],
   "source": [
    "# Creating Users\n",
    "misp_url = URL + '/admin/users/add'\n",
    "relative_path = ''\n",
    "\n",
    "body = {\n",
    "    \"email\": \"from_api@admin.test\",\n",
    "    \"org_id\": 2,\n",
    "    \"role_id\": 3,\n",
    "    \"termsaccepted\": 1,\n",
    "    \"change_pw\": 0, # User prompted to change the psswd once logged in\n",
    "    \"password\": \"~~UlTrA_SeCuRe_PaSsWoRd~~\"\n",
    "}\n",
    "\n",
    "misp = ExpandedPyMISP(misp_url, AUTHKEY, False)\n",
    "res = misp.direct_call(relative_path, body)\n",
    "print_result(res)"
   ]
  },
  {
   "cell_type": "code",
   "execution_count": null,
   "metadata": {},
   "outputs": [],
   "source": [
    "# Creating Sharing Groups\n",
    "misp_url = URL + '/sharing_groups/add'\n",
    "relative_path = ''\n",
    "\n",
    "body = {\n",
    "    \"name\": \"TEMP_SG\",\n",
    "    \"releasability\": \"To nobody\",\n",
    "    \"SharingGroupOrg\": [\n",
    "        {\n",
    "            \"name\": \"ORGNAME\",\n",
    "            \"extend\": 1\n",
    "        },\n",
    "        {\n",
    "            \"name\": \"CIRCL\",\n",
    "            \"extend\": 1\n",
    "        }\n",
    "    ]\n",
    "}\n",
    "\n",
    "misp = ExpandedPyMISP(misp_url, AUTHKEY, False)\n",
    "res = misp.direct_call(relative_path, body)\n",
    "print_result(res)"
   ]
  },
  {
   "cell_type": "code",
   "execution_count": null,
   "metadata": {},
   "outputs": [],
   "source": [
    "# Server\n",
    "misp_url = URL + '/servers/add'\n",
    "relative_path = ''\n",
    "\n",
    "body = {\n",
    "    \"url\": \"http://127.0.0.1:80/\",\n",
    "    \"name\": \"Myself\",\n",
    "    \"remote_org_id\": \"2\",\n",
    "    \"authkey\": \"UHwmZCH4QdSKqPVunxTzfSes8n7ibBhUlsd0dmx9\"\n",
    "    \n",
    "}\n",
    "\n",
    "misp = ExpandedPyMISP(misp_url, AUTHKEY, False)\n",
    "res = misp.direct_call(relative_path, body)\n",
    "print_result(res)"
   ]
  },
  {
   "cell_type": "code",
   "execution_count": null,
   "metadata": {},
   "outputs": [],
   "source": [
    "# Server settings\n",
    "misp_url = URL + '/servers/serverSettings'\n",
    "relative_path = ''\n",
    "\n",
    "body = {}\n",
    "\n",
    "misp = ExpandedPyMISP(misp_url, AUTHKEY, False)\n",
    "res = misp.direct_call(relative_path, body)\n",
    "print_result(res)"
   ]
  },
  {
   "cell_type": "code",
   "execution_count": null,
   "metadata": {},
   "outputs": [],
   "source": [
    "# Statistics\n",
    "misp_url = URL + '/users/statistics'\n",
    "relative_path = ''\n",
    "\n",
    "body = {}\n",
    "\n",
    "misp = ExpandedPyMISP(misp_url, AUTHKEY, False)\n",
    "res = misp.direct_call(relative_path, body)\n",
    "print_result(res)"
   ]
  }
 ],
 "metadata": {
  "kernelspec": {
   "display_name": "Python 3",
   "language": "python",
   "name": "python3"
  },
  "language_info": {
   "codemirror_mode": {
    "name": "ipython",
    "version": 3
   },
   "file_extension": ".py",
   "mimetype": "text/x-python",
   "name": "python",
   "nbconvert_exporter": "python",
   "pygments_lexer": "ipython3",
   "version": "3.6.7"
  }
 },
 "nbformat": 4,
 "nbformat_minor": 2
}
